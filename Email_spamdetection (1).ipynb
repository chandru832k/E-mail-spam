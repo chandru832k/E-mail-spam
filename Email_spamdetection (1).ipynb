{
  "nbformat": 4,
  "nbformat_minor": 0,
  "metadata": {
    "colab": {
      "name": "Email spamdetection",
      "provenance": [],
      "collapsed_sections": []
    },
    "kernelspec": {
      "name": "python3",
      "display_name": "Python 3"
    }
  },
  "cells": [
    {
      "cell_type": "code",
      "metadata": {
        "id": "8CfTmNaBzYmh",
        "colab_type": "code",
        "colab": {}
      },
      "source": [
        "#Neural Network\n",
        "import sys\n",
        "import csv\n",
        "import datetime\n",
        "import numpy as np\n",
        "import pandas as pd\n",
        "import matplotlib.pyplot as plt\n",
        "from datetime import datetime\n",
        "from numpy import loadtxt\n",
        "from tensorflow.python.keras.layers import Dense\n",
        "from tensorflow.python.keras import Sequential"
      ],
      "execution_count": 0,
      "outputs": []
    },
    {
      "cell_type": "code",
      "metadata": {
        "id": "oDMiXew91D0t",
        "colab_type": "code",
        "outputId": "dbeeff73-8814-46a9-9328-9f76f3e7c095",
        "colab": {
          "base_uri": "https://localhost:8080/",
          "height": 51
        }
      },
      "source": [
        "# load the dataset\n",
        "#Reading Of the Datasets\n",
        "print(\"reading datasets.....\\n\")\n",
        "df1 = pd.read_csv(\"users.csv\")\n",
        "df = df1.where((pd.notnull(df1)), '')\n"
      ],
      "execution_count": 3,
      "outputs": [
        {
          "output_type": "stream",
          "text": [
            "reading datasets.....\n",
            "\n"
          ],
          "name": "stdout"
        }
      ]
    },
    {
      "cell_type": "code",
      "metadata": {
        "id": "2Wh-pqbh2MzP",
        "colab_type": "code",
        "colab": {}
      },
      "source": [
        "# Categorize Spam as 0 and Not spam as 1 \n",
        "df.loc[df[\"Category\"] == 'ham', \"Category\",] = 1\n",
        "df.loc[df[\"Category\"] == 'spam', \"Category\",] = 0\n",
        "# split data as label and text . System should be capable of predicting the label based on the  text\n",
        "x = df['Message']\n",
        "y = df['Category']"
      ],
      "execution_count": 0,
      "outputs": []
    },
    {
      "cell_type": "code",
      "metadata": {
        "id": "1yXZOxtB7kV0",
        "colab_type": "code",
        "colab": {}
      },
      "source": [
        "from sklearn.model_selection import train_test_split\n",
        "# split the table - 80 percent for training and 20 percent for test size\n",
        "x_train, x_test, y_train, y_test = train_test_split(x, y, train_size=0.8, test_size=0.2, random_state=4)\n",
        "from sklearn.feature_extraction.text import TfidfVectorizer\n",
        "\n",
        "# feature extraction, coversion to lower case and removal of stop words using TFIDF VECTORIZER\n",
        "tfvec = TfidfVectorizer(min_df=1, stop_words='english', lowercase=True)\n",
        "x_trainFeat = tfvec.fit_transform(x_train)\n",
        "x_testFeat = tfvec.transform(x_test)"
      ],
      "execution_count": 0,
      "outputs": []
    },
    {
      "cell_type": "code",
      "metadata": {
        "id": "hrl6RQJa2MwQ",
        "colab_type": "code",
        "outputId": "18bd0c20-0617-499e-8207-e4fb790a945d",
        "colab": {
          "base_uri": "https://localhost:8080/",
          "height": 86
        }
      },
      "source": [
        "# SVM is used to model\n",
        "y_train= y_train.astype('int')\n",
        "from sklearn.neural_network import MLPClassifier\n",
        "nn = MLPClassifier(solver='lbfgs', alpha=1e-5, hidden_layer_sizes=(5, 2), random_state=101)\n",
        "nn.fit(x_trainFeat, y_train)\n",
        "import sklearn.metrics as metrics\n",
        "pred = nn.predict(x_testFeat)\n",
        "y_test= y_test.astype('int')\n",
        "print(\"Precision.....\",metrics.precision_score(y_test,pred))\n",
        "print(\"REcall........\",metrics.recall_score(y_test,pred))\n",
        "print(\"Accuracy.......\",metrics.accuracy_score(y_test,pred))\n",
        "print(\"F1-score.......\",metrics.f1_score(y_test,pred))"
      ],
      "execution_count": 11,
      "outputs": [
        {
          "output_type": "stream",
          "text": [
            "Precision..... 0.9853095487932844\n",
            "REcall........ 0.9915522703273495\n",
            "Accuracy....... 0.9802690582959641\n",
            "F1-score....... 0.9884210526315789\n"
          ],
          "name": "stdout"
        }
      ]
    },
    {
      "cell_type": "code",
      "metadata": {
        "id": "CIPFpJ7ZNcDu",
        "colab_type": "code",
        "outputId": "5436b929-58e2-4f6b-f20a-82c5eb6c88f6",
        "colab": {
          "base_uri": "https://localhost:8080/",
          "height": 86
        }
      },
      "source": [
        "from sklearn.ensemble import BaggingClassifier\n",
        "from sklearn.neighbors import KNeighborsClassifier\n",
        "bagging = BaggingClassifier(KNeighborsClassifier(),max_samples=0.5, max_features=0.5)\n",
        "bagging.fit(x_trainFeat, y_train)\n",
        "pred = bagging.predict(x_testFeat)\n",
        "y_test= y_test.astype('int')\n",
        "print(\"Precision.....\",metrics.precision_score(y_test,pred))\n",
        "print(\"REcall........\",metrics.recall_score(y_test,pred))\n",
        "print(\"Accuracy.......\",metrics.accuracy_score(y_test,pred))\n",
        "print(\"F1-score.......\",metrics.f1_score(y_test,pred))"
      ],
      "execution_count": 12,
      "outputs": [
        {
          "output_type": "stream",
          "text": [
            "Precision..... 0.8704044117647058\n",
            "REcall........ 1.0\n",
            "Accuracy....... 0.873542600896861\n",
            "F1-score....... 0.9307125307125307\n"
          ],
          "name": "stdout"
        }
      ]
    },
    {
      "cell_type": "code",
      "metadata": {
        "id": "C8lw-zDN2tYG",
        "colab_type": "code",
        "outputId": "71333660-fe2f-4c98-aada-f2cf153e089d",
        "colab": {
          "base_uri": "https://localhost:8080/",
          "height": 34
        }
      },
      "source": [
        "val=\"XXXMobileMovieClub: To use your credit, click the WAP link in the next txt message or click here>> http://wap. xxxmobilemovieclub.com?\"\n",
        "val=[val]\n",
        "new_test= tfvec.transform(val)\n",
        "\n",
        "predictions = nn.predict(new_test)\n",
        "print(predictions)"
      ],
      "execution_count": 13,
      "outputs": [
        {
          "output_type": "stream",
          "text": [
            "[0]\n"
          ],
          "name": "stdout"
        }
      ]
    }
  ]
}